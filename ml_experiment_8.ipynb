{
  "nbformat": 4,
  "nbformat_minor": 0,
  "metadata": {
    "colab": {
      "provenance": [],
      "authorship_tag": "ABX9TyPWlChz4SN6japk2nRxsSjg"
    },
    "kernelspec": {
      "name": "python3",
      "display_name": "Python 3"
    },
    "language_info": {
      "name": "python"
    }
  },
  "cells": [
    {
      "cell_type": "code",
      "execution_count": 1,
      "metadata": {
        "colab": {
          "base_uri": "https://localhost:8080/"
        },
        "id": "z-oE5WF1Yw67",
        "outputId": "a4121af8-faa0-46e3-a759-b740d7ee968d"
      },
      "outputs": [
        {
          "output_type": "stream",
          "name": "stdout",
          "text": [
            "Collecting hmmlearn\n",
            "  Downloading hmmlearn-0.3.3-cp312-cp312-manylinux_2_17_x86_64.manylinux2014_x86_64.whl.metadata (3.0 kB)\n",
            "Requirement already satisfied: numpy>=1.10 in /usr/local/lib/python3.12/dist-packages (from hmmlearn) (2.0.2)\n",
            "Requirement already satisfied: scikit-learn!=0.22.0,>=0.16 in /usr/local/lib/python3.12/dist-packages (from hmmlearn) (1.6.1)\n",
            "Requirement already satisfied: scipy>=0.19 in /usr/local/lib/python3.12/dist-packages (from hmmlearn) (1.16.2)\n",
            "Requirement already satisfied: joblib>=1.2.0 in /usr/local/lib/python3.12/dist-packages (from scikit-learn!=0.22.0,>=0.16->hmmlearn) (1.5.2)\n",
            "Requirement already satisfied: threadpoolctl>=3.1.0 in /usr/local/lib/python3.12/dist-packages (from scikit-learn!=0.22.0,>=0.16->hmmlearn) (3.6.0)\n",
            "Downloading hmmlearn-0.3.3-cp312-cp312-manylinux_2_17_x86_64.manylinux2014_x86_64.whl (165 kB)\n",
            "\u001b[2K   \u001b[90m━━━━━━━━━━━━━━━━━━━━━━━━━━━━━━━━━━━━━━━━\u001b[0m \u001b[32m166.0/166.0 kB\u001b[0m \u001b[31m2.4 MB/s\u001b[0m eta \u001b[36m0:00:00\u001b[0m\n",
            "\u001b[?25hInstalling collected packages: hmmlearn\n",
            "Successfully installed hmmlearn-0.3.3\n"
          ]
        },
        {
          "output_type": "stream",
          "name": "stderr",
          "text": [
            "WARNING:hmmlearn.hmm:MultinomialHMM has undergone major changes. The previous version was implementing a CategoricalHMM (a special case of MultinomialHMM). This new implementation follows the standard definition for a Multinomial distribution (e.g. as in https://en.wikipedia.org/wiki/Multinomial_distribution). See these issues for details:\n",
            "https://github.com/hmmlearn/hmmlearn/issues/335\n",
            "https://github.com/hmmlearn/hmmlearn/issues/340\n"
          ]
        },
        {
          "output_type": "stream",
          "name": "stdout",
          "text": [
            "Observed sequence: ['Walk', 'Shop', 'Clean', 'Shop', 'Walk']\n",
            "Most likely hidden states: ['Sunny', 'Sunny', 'Sunny', 'Sunny', 'Sunny']\n",
            "Log probability: -6.98143109837347\n"
          ]
        }
      ],
      "source": [
        "# Install the required package\n",
        "!pip install hmmlearn\n",
        "\n",
        "# Import libraries\n",
        "from hmmlearn import hmm\n",
        "import numpy as np\n",
        "\n",
        "# Hidden states and observation symbols\n",
        "states = [\"Sunny\", \"Rainy\"]\n",
        "observations = [\"Walk\", \"Shop\", \"Clean\"]\n",
        "\n",
        "# Define HMM parameters\n",
        "start_prob = np.array([0.7, 0.3])  # Initial probabilities\n",
        "trans_mat = np.array([\n",
        "    [0.8, 0.2],  # Sunny -> Sunny, Rainy\n",
        "    [0.3, 0.7]   # Rainy -> Sunny, Rainy\n",
        "])\n",
        "emit_mat = np.array([\n",
        "    [0.6, 0.3, 0.1],  # Sunny emits Walk, Shop, Clean\n",
        "    [0.1, 0.4, 0.5]   # Rainy emits Walk, Shop, Clean\n",
        "])\n",
        "\n",
        "# Build the model\n",
        "model = hmm.MultinomialHMM(n_components=2, n_iter=100)\n",
        "model.startprob_ = start_prob\n",
        "model.transmat_ = trans_mat\n",
        "model.emissionprob_ = emit_mat\n",
        "model.n_trials = 1  # one trial per observation\n",
        "\n",
        "# Observed sequence: Walk(0), Shop(1), Clean(2), Shop(1), Walk(0)\n",
        "# Convert to one-hot representation (n_samples x n_symbols)\n",
        "obs_seq = np.array([\n",
        "    [1, 0, 0],  # Walk\n",
        "    [0, 1, 0],  # Shop\n",
        "    [0, 0, 1],  # Clean\n",
        "    [0, 1, 0],  # Shop\n",
        "    [1, 0, 0]   # Walk\n",
        "])\n",
        "\n",
        "# Decode (Viterbi Algorithm)\n",
        "logprob, hidden_states = model.decode(obs_seq, algorithm=\"viterbi\")\n",
        "\n",
        "print(\"Observed sequence:\", [observations[np.argmax(o)] for o in obs_seq])\n",
        "print(\"Most likely hidden states:\", [states[i] for i in hidden_states])\n",
        "print(\"Log probability:\", logprob)\n"
      ]
    }
  ]
}